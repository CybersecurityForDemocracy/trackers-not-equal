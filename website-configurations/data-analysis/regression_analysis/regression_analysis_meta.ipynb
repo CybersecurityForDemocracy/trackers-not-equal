{
 "cells": [
  {
   "cell_type": "code",
   "execution_count": 1,
   "metadata": {},
   "outputs": [],
   "source": [
    "import pickle\n",
    "import pandas as pd\n",
    "import statsmodels.api as sm\n",
    "\n"
   ]
  },
  {
   "cell_type": "code",
   "execution_count": 2,
   "metadata": {},
   "outputs": [],
   "source": [
    "websites = pd.read_csv('../data/websites.csv')\n",
    "websites = websites[websites['has_meta_pixel']] # analysis makes sense only on websites that have meta pixel\n"
   ]
  },
  {
   "cell_type": "markdown",
   "metadata": {},
   "source": [
    "## Correlations\n"
   ]
  },
  {
   "cell_type": "code",
   "execution_count": 3,
   "metadata": {},
   "outputs": [
    {
     "data": {
      "text/html": [
       "<div>\n",
       "<style scoped>\n",
       "    .dataframe tbody tr th:only-of-type {\n",
       "        vertical-align: middle;\n",
       "    }\n",
       "\n",
       "    .dataframe tbody tr th {\n",
       "        vertical-align: top;\n",
       "    }\n",
       "\n",
       "    .dataframe thead th {\n",
       "        text-align: right;\n",
       "    }\n",
       "</style>\n",
       "<table border=\"1\" class=\"dataframe\">\n",
       "  <thead>\n",
       "    <tr style=\"text-align: right;\">\n",
       "      <th></th>\n",
       "      <th>has_gtag</th>\n",
       "      <th>google_form_data_collection</th>\n",
       "      <th>is_health</th>\n",
       "      <th>is_finance</th>\n",
       "    </tr>\n",
       "  </thead>\n",
       "  <tbody>\n",
       "    <tr>\n",
       "      <th>has_gtag</th>\n",
       "      <td>1.000000</td>\n",
       "      <td>0.074136</td>\n",
       "      <td>0.003195</td>\n",
       "      <td>-0.027425</td>\n",
       "    </tr>\n",
       "    <tr>\n",
       "      <th>google_form_data_collection</th>\n",
       "      <td>0.074136</td>\n",
       "      <td>1.000000</td>\n",
       "      <td>-0.008281</td>\n",
       "      <td>-0.000830</td>\n",
       "    </tr>\n",
       "    <tr>\n",
       "      <th>is_health</th>\n",
       "      <td>0.003195</td>\n",
       "      <td>-0.008281</td>\n",
       "      <td>1.000000</td>\n",
       "      <td>-0.069925</td>\n",
       "    </tr>\n",
       "    <tr>\n",
       "      <th>is_finance</th>\n",
       "      <td>-0.027425</td>\n",
       "      <td>-0.000830</td>\n",
       "      <td>-0.069925</td>\n",
       "      <td>1.000000</td>\n",
       "    </tr>\n",
       "  </tbody>\n",
       "</table>\n",
       "</div>"
      ],
      "text/plain": [
       "                             has_gtag  google_form_data_collection  is_health  \\\n",
       "has_gtag                     1.000000                     0.074136   0.003195   \n",
       "google_form_data_collection  0.074136                     1.000000  -0.008281   \n",
       "is_health                    0.003195                    -0.008281   1.000000   \n",
       "is_finance                  -0.027425                    -0.000830  -0.069925   \n",
       "\n",
       "                             is_finance  \n",
       "has_gtag                      -0.027425  \n",
       "google_form_data_collection   -0.000830  \n",
       "is_health                     -0.069925  \n",
       "is_finance                     1.000000  "
      ]
     },
     "execution_count": 3,
     "metadata": {},
     "output_type": "execute_result"
    }
   ],
   "source": [
    "websites[['has_gtag', 'google_form_data_collection', 'is_health', 'is_finance']].corr(method='pearson')"
   ]
  },
  {
   "cell_type": "code",
   "execution_count": 4,
   "metadata": {},
   "outputs": [],
   "source": [
    "X = websites[['has_gtag', 'google_form_data_collection', 'is_health', 'is_finance']].copy()\n",
    "y = websites['meta_form_data_collection']\n",
    "\n",
    "# Convert boolean to int\n",
    "X = X.astype(int)\n"
   ]
  },
  {
   "cell_type": "markdown",
   "metadata": {},
   "source": [
    "## Regression Analysis"
   ]
  },
  {
   "cell_type": "code",
   "execution_count": 5,
   "metadata": {},
   "outputs": [
    {
     "name": "stdout",
     "output_type": "stream",
     "text": [
      "Optimization terminated successfully.\n",
      "         Current function value: 0.614678\n",
      "         Iterations: 36\n",
      "         Function evaluations: 37\n",
      "         Gradient evaluations: 37\n",
      "                               Logit Regression Results                              \n",
      "=====================================================================================\n",
      "Dep. Variable:     meta_form_data_collection   No. Observations:                11309\n",
      "Model:                                 Logit   Df Residuals:                    11304\n",
      "Method:                                  MLE   Df Model:                            4\n",
      "Date:                       Tue, 11 Mar 2025   Pseudo R-squ.:                 0.07207\n",
      "Time:                               17:29:56   Log-Likelihood:                -6951.4\n",
      "converged:                              True   LL-Null:                       -7491.3\n",
      "Covariance Type:                   nonrobust   LLR p-value:                1.756e-232\n",
      "===============================================================================================\n",
      "                                  coef    std err          z      P>|z|      [0.025      0.975]\n",
      "-----------------------------------------------------------------------------------------------\n",
      "const                           0.0195      0.140      0.140      0.889      -0.254       0.293\n",
      "has_gtag                        0.6435      0.141      4.553      0.000       0.367       0.921\n",
      "google_form_data_collection     0.5302      0.053     10.051      0.000       0.427       0.634\n",
      "is_health                      -1.5780      0.070    -22.528      0.000      -1.715      -1.441\n",
      "is_finance                     -2.1390      0.114    -18.807      0.000      -2.362      -1.916\n",
      "===============================================================================================\n"
     ]
    }
   ],
   "source": [
    "# Prepare data for statsmodels (add constant term)\n",
    "X = sm.add_constant(X)\n",
    "    \n",
    "\n",
    "# Fit logistic regression model using statsmodels\n",
    "logit_model = sm.Logit(y, X).fit(method='bfgs', maxiter=1000)\n",
    "\n",
    "# Print summary of the model (coefficients and p-values)\n",
    "print(logit_model.summary())\n",
    "\n"
   ]
  },
  {
   "cell_type": "code",
   "execution_count": 6,
   "metadata": {},
   "outputs": [],
   "source": [
    "# Save the data to a csv file\n",
    "pickle.dump(logit_model, open('regression_analysis_meta_model.pkl','wb'))"
   ]
  },
  {
   "cell_type": "code",
   "execution_count": null,
   "metadata": {},
   "outputs": [],
   "source": []
  }
 ],
 "metadata": {
  "kernelspec": {
   "display_name": "Python (three_eight)",
   "language": "python",
   "name": "three_eight"
  },
  "language_info": {
   "codemirror_mode": {
    "name": "ipython",
    "version": 3
   },
   "file_extension": ".py",
   "mimetype": "text/x-python",
   "name": "python",
   "nbconvert_exporter": "python",
   "pygments_lexer": "ipython3",
   "version": "3.8.8"
  }
 },
 "nbformat": 4,
 "nbformat_minor": 4
}
