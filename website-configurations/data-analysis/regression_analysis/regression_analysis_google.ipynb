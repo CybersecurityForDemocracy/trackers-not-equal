{
 "cells": [
  {
   "cell_type": "code",
   "execution_count": 1,
   "metadata": {},
   "outputs": [],
   "source": [
    "import pickle\n",
    "import pandas as pd\n",
    "import statsmodels.api as sm\n"
   ]
  },
  {
   "cell_type": "code",
   "execution_count": 2,
   "metadata": {},
   "outputs": [],
   "source": [
    "\n",
    "websites = pd.read_csv('../data/websites.csv')\n",
    "websites = websites[websites['has_gtag']] # analysis makes sense only on websites that have gtag\n"
   ]
  },
  {
   "cell_type": "markdown",
   "metadata": {},
   "source": [
    "## Correlations\n"
   ]
  },
  {
   "cell_type": "code",
   "execution_count": 3,
   "metadata": {},
   "outputs": [
    {
     "data": {
      "text/html": [
       "<div>\n",
       "<style scoped>\n",
       "    .dataframe tbody tr th:only-of-type {\n",
       "        vertical-align: middle;\n",
       "    }\n",
       "\n",
       "    .dataframe tbody tr th {\n",
       "        vertical-align: top;\n",
       "    }\n",
       "\n",
       "    .dataframe thead th {\n",
       "        text-align: right;\n",
       "    }\n",
       "</style>\n",
       "<table border=\"1\" class=\"dataframe\">\n",
       "  <thead>\n",
       "    <tr style=\"text-align: right;\">\n",
       "      <th></th>\n",
       "      <th>has_meta_pixel</th>\n",
       "      <th>meta_form_data_collection</th>\n",
       "      <th>is_health</th>\n",
       "      <th>is_finance</th>\n",
       "    </tr>\n",
       "  </thead>\n",
       "  <tbody>\n",
       "    <tr>\n",
       "      <th>has_meta_pixel</th>\n",
       "      <td>1.000000</td>\n",
       "      <td>0.714266</td>\n",
       "      <td>0.019795</td>\n",
       "      <td>0.023872</td>\n",
       "    </tr>\n",
       "    <tr>\n",
       "      <th>meta_form_data_collection</th>\n",
       "      <td>0.714266</td>\n",
       "      <td>1.000000</td>\n",
       "      <td>-0.080931</td>\n",
       "      <td>-0.070074</td>\n",
       "    </tr>\n",
       "    <tr>\n",
       "      <th>is_health</th>\n",
       "      <td>0.019795</td>\n",
       "      <td>-0.080931</td>\n",
       "      <td>1.000000</td>\n",
       "      <td>-0.060358</td>\n",
       "    </tr>\n",
       "    <tr>\n",
       "      <th>is_finance</th>\n",
       "      <td>0.023872</td>\n",
       "      <td>-0.070074</td>\n",
       "      <td>-0.060358</td>\n",
       "      <td>1.000000</td>\n",
       "    </tr>\n",
       "  </tbody>\n",
       "</table>\n",
       "</div>"
      ],
      "text/plain": [
       "                           has_meta_pixel  meta_form_data_collection  \\\n",
       "has_meta_pixel                   1.000000                   0.714266   \n",
       "meta_form_data_collection        0.714266                   1.000000   \n",
       "is_health                        0.019795                  -0.080931   \n",
       "is_finance                       0.023872                  -0.070074   \n",
       "\n",
       "                           is_health  is_finance  \n",
       "has_meta_pixel              0.019795    0.023872  \n",
       "meta_form_data_collection  -0.080931   -0.070074  \n",
       "is_health                   1.000000   -0.060358  \n",
       "is_finance                 -0.060358    1.000000  "
      ]
     },
     "execution_count": 3,
     "metadata": {},
     "output_type": "execute_result"
    }
   ],
   "source": [
    "websites[['has_meta_pixel', 'meta_form_data_collection', 'is_health', 'is_finance']].corr(method='pearson')"
   ]
  },
  {
   "cell_type": "code",
   "execution_count": 4,
   "metadata": {},
   "outputs": [],
   "source": [
    "X = websites[['has_meta_pixel', 'is_health', 'is_finance']]\n",
    "y = websites['google_form_data_collection']\n",
    "\n",
    "# Convert boolean to int\n",
    "X = X.astype(int)\n"
   ]
  },
  {
   "cell_type": "markdown",
   "metadata": {},
   "source": [
    "## Regression Analysis"
   ]
  },
  {
   "cell_type": "code",
   "execution_count": 5,
   "metadata": {},
   "outputs": [
    {
     "name": "stdout",
     "output_type": "stream",
     "text": [
      "Optimization terminated successfully.\n",
      "         Current function value: 0.329075\n",
      "         Iterations: 27\n",
      "         Function evaluations: 30\n",
      "         Gradient evaluations: 30\n",
      "                                Logit Regression Results                               \n",
      "=======================================================================================\n",
      "Dep. Variable:     google_form_data_collection   No. Observations:                29137\n",
      "Model:                                   Logit   Df Residuals:                    29133\n",
      "Method:                                    MLE   Df Model:                            3\n",
      "Date:                         Tue, 11 Mar 2025   Pseudo R-squ.:                 0.08253\n",
      "Time:                                 17:30:23   Log-Likelihood:                -9588.3\n",
      "converged:                                True   LL-Null:                       -10451.\n",
      "Covariance Type:                     nonrobust   LLR p-value:                     0.000\n",
      "==================================================================================\n",
      "                     coef    std err          z      P>|z|      [0.025      0.975]\n",
      "----------------------------------------------------------------------------------\n",
      "const             -2.8610      0.034    -85.258      0.000      -2.927      -2.795\n",
      "has_meta_pixel     1.5767      0.040     39.216      0.000       1.498       1.655\n",
      "is_health         -0.0496      0.067     -0.744      0.457      -0.180       0.081\n",
      "is_finance         0.0827      0.093      0.885      0.376      -0.100       0.266\n",
      "==================================================================================\n"
     ]
    }
   ],
   "source": [
    "# Prepare data for statsmodels (add constant term)\n",
    "X = sm.add_constant(X)\n",
    "    \n",
    "\n",
    "# Fit logistic regression model using statsmodels\n",
    "logit_model = sm.Logit(y, X).fit(method='bfgs', maxiter=1000)\n",
    "\n",
    "# Print summary of the model (coefficients and p-values)\n",
    "print(logit_model.summary())\n",
    "\n"
   ]
  },
  {
   "cell_type": "code",
   "execution_count": 6,
   "metadata": {},
   "outputs": [],
   "source": [
    "# Save the data to a csv file\n",
    "pickle.dump(logit_model, open('regression_analysis_google_model.pkl','wb'))"
   ]
  },
  {
   "cell_type": "code",
   "execution_count": null,
   "metadata": {},
   "outputs": [],
   "source": []
  }
 ],
 "metadata": {
  "kernelspec": {
   "display_name": "Python (three_eight)",
   "language": "python",
   "name": "three_eight"
  },
  "language_info": {
   "codemirror_mode": {
    "name": "ipython",
    "version": 3
   },
   "file_extension": ".py",
   "mimetype": "text/x-python",
   "name": "python",
   "nbconvert_exporter": "python",
   "pygments_lexer": "ipython3",
   "version": "3.8.8"
  }
 },
 "nbformat": 4,
 "nbformat_minor": 4
}
