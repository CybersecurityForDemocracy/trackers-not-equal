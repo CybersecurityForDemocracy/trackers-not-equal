{
 "cells": [
  {
   "cell_type": "markdown",
   "metadata": {},
   "source": [
    "# Measurements not on tables\n",
    "\n",
    "In this notebook, we present the code for several of our measurements not included in the paper's tables. This file does not contain the measurements taken from the samples that we use for validation in Section *4.2 Dataset Overview and Validation*. You can find these measurements in [measurements_validations.ipynb](measurements_validations.ipynb)."
   ]
  },
  {
   "cell_type": "code",
   "execution_count": 1,
   "metadata": {},
   "outputs": [],
   "source": [
    "import pandas as pd\n",
    "from latex_formatter import LatexFormatter as lf"
   ]
  },
  {
   "cell_type": "code",
   "execution_count": 2,
   "metadata": {},
   "outputs": [],
   "source": [
    "websites = pd.read_csv('data/websites.csv')"
   ]
  },
  {
   "cell_type": "markdown",
   "metadata": {},
   "source": [
    "## Section 4.2\n",
    "\n",
    "The following numbers are reported in Section *4.2 Dataset Overview and Validation*."
   ]
  },
  {
   "cell_type": "code",
   "execution_count": 3,
   "metadata": {},
   "outputs": [
    {
     "name": "stdout",
     "output_type": "stream",
     "text": [
      "Number of websites with no Google Tag installation:  11,013\n",
      "Number of websites with no Meta Pixel installation:  28,841\n"
     ]
    }
   ],
   "source": [
    "# Websites with no detected Google Tag/Meta Pixel installation\n",
    "\n",
    "no_google_tag = lf.num((~websites['has_gtag']).sum())\n",
    "print('Number of websites with no Google Tag installation: ', no_google_tag)\n",
    "\n",
    "no_meta_pixel = lf.num((~websites['has_meta_pixel']).sum())\n",
    "print('Number of websites with no Meta Pixel installation: ', no_meta_pixel)"
   ]
  },
  {
   "cell_type": "code",
   "execution_count": 4,
   "metadata": {},
   "outputs": [
    {
     "name": "stdout",
     "output_type": "stream",
     "text": [
      "Number of websites with Google Tag but no form data collection:  25,760\n",
      "Number of websites with Meta Pixel but no form data collection:  4,260\n"
     ]
    }
   ],
   "source": [
    "# Websites with Google Tag/Meta Pixel but not form data collection\n",
    "\n",
    "google_tag_no_form = lf.num((websites['has_gtag'] & ~websites['google_form_data_collection']).sum())\n",
    "print('Number of websites with Google Tag but no form data collection: ', google_tag_no_form)\n",
    "\n",
    "meta_pixel_no_form = lf.num((websites['has_meta_pixel'] & ~websites['meta_form_data_collection']).sum())\n",
    "print('Number of websites with Meta Pixel but no form data collection: ', meta_pixel_no_form)"
   ]
  },
  {
   "cell_type": "code",
   "execution_count": 5,
   "metadata": {},
   "outputs": [
    {
     "name": "stdout",
     "output_type": "stream",
     "text": [
      "Fraction of websites with Meta Pixel form data configuration that have form data collection:  89.8%\n",
      "Fraction of websites with Meta Pixel form data configuration that do not have form data collection:  10.2%\n",
      "Number of websites with Meta Pixel form data collection that have no form data configuration: 2 (0.028% of websites with Meta Pixel form data collection)\n"
     ]
    }
   ],
   "source": [
    "# Breakdown of Websites with Meta Pixel form data configuration by whether they had form collection or not\n",
    "\n",
    "def frac(x, n_decimals=1):\n",
    "    return \"{:.{}f}%\".format(x, n_decimals)\n",
    "\n",
    "websites_meta_fdc_configuration = websites[websites['meta_form_data_configuration']]\n",
    "\n",
    "meta_configuration_and_collection = websites_meta_fdc_configuration['meta_form_data_collection'].sum()\n",
    "meta_configuation_no_collection = (~websites_meta_fdc_configuration['meta_form_data_collection']).sum()\n",
    "\n",
    "print(\"Fraction of websites with Meta Pixel form data configuration that have form data collection: \", frac(100 * meta_configuration_and_collection / len(websites_meta_fdc_configuration)))\n",
    "print(\"Fraction of websites with Meta Pixel form data configuration that do not have form data collection: \", frac(100 * meta_configuation_no_collection / len(websites_meta_fdc_configuration)))\n",
    "\n",
    "\n",
    "websites_meta_fdc_collection = websites[websites['meta_form_data_collection']]\n",
    "meta_fdc_collection_and_no_configuration = (~websites_meta_fdc_collection['meta_form_data_configuration']).sum()\n",
    "print(f\"Number of websites with Meta Pixel form data collection that have no form data configuration: {meta_fdc_collection_and_no_configuration} ({frac(100 * meta_fdc_collection_and_no_configuration / len(websites_meta_fdc_collection),3)} of websites with Meta Pixel form data collection)\")\n"
   ]
  },
  {
   "cell_type": "markdown",
   "metadata": {},
   "source": [
    "## Section 4.3\n",
    "\n",
    "The following numbers are reported in Section *4.2 Analysis*.\n"
   ]
  },
  {
   "cell_type": "code",
   "execution_count": 6,
   "metadata": {},
   "outputs": [
    {
     "name": "stdout",
     "output_type": "stream",
     "text": [
      "Fraction of websites with Meta Pixel that also have Google Tag (out of all websites with Meta Pixel):  98.0%\n",
      "Fraction of websites with only Meta Pixel but no Google Tag (out of all websites):  0.6%\n"
     ]
    }
   ],
   "source": [
    "# Breakdown of websites with Meta pixel\n",
    "websites_meta_pixel = websites[websites['has_meta_pixel']]\n",
    "meta_pixel_with_google_pixel = websites_meta_pixel['has_gtag'].sum()\n",
    "\n",
    "print(\"Fraction of websites with Meta Pixel that also have Google Tag (out of all websites with Meta Pixel): \", frac(100 * meta_pixel_with_google_pixel / len(websites_meta_pixel)))\n",
    "\n",
    "meta_pixel_only = (~websites['has_gtag'] & websites['has_meta_pixel']).sum()\n",
    "print(\"Fraction of websites with only Meta Pixel but no Google Tag (out of all websites): \", frac(100 * meta_pixel_only / len(websites)))"
   ]
  },
  {
   "cell_type": "code",
   "execution_count": 7,
   "metadata": {},
   "outputs": [
    {
     "name": "stdout",
     "output_type": "stream",
     "text": [
      "Number of websites with Google Tag but no Meta Pixel that have form data collection:  976\n",
      "Number of websites with both Google Tag and Meta Pixel that have form data collection:  2,401\n"
     ]
    }
   ],
   "source": [
    "# Breakdown of websites with Google tag\n",
    "\n",
    "websites_google_tag_no_meta_pixel = websites[websites['has_gtag'] & ~websites['has_meta_pixel']]\n",
    "google_tag_no_meta_pixel_with_form_data_collection = websites_google_tag_no_meta_pixel['google_form_data_collection'].sum()\n",
    "print(\"Number of websites with Google Tag but no Meta Pixel that have form data collection: \", google_tag_no_meta_pixel_with_form_data_collection)\n",
    "\n",
    "websites_google_tag_and_meta_pixel = websites[websites['has_gtag'] & websites['has_meta_pixel']]\n",
    "google_tag_and_meta_pixel_with_form_data_collection = lf.num(websites_google_tag_and_meta_pixel['google_form_data_collection'].sum())\n",
    "print(\"Number of websites with both Google Tag and Meta Pixel that have form data collection: \", google_tag_and_meta_pixel_with_form_data_collection)"
   ]
  },
  {
   "cell_type": "markdown",
   "metadata": {},
   "source": [
    "## Appendix\n",
    "\n",
    "The following numbers are reported in Appendix *B REGRESSION ANALYSIS TASKS*."
   ]
  },
  {
   "cell_type": "code",
   "execution_count": 8,
   "metadata": {},
   "outputs": [
    {
     "name": "stdout",
     "output_type": "stream",
     "text": [
      "Correlation between meta pixel and meta form data collection for websites with Google Tag:  0.71\n"
     ]
    }
   ],
   "source": [
    "websites_gtag = websites[websites['has_gtag']]\n",
    "\n",
    "correlations = websites_gtag[['has_meta_pixel', 'meta_form_data_collection']].corr()\n",
    "print(\"Correlation between meta pixel and meta form data collection for websites with Google Tag: \", round(correlations['has_meta_pixel']['meta_form_data_collection'], 2))"
   ]
  }
 ],
 "metadata": {
  "kernelspec": {
   "display_name": "Python (three_eight)",
   "language": "python",
   "name": "three_eight"
  },
  "language_info": {
   "codemirror_mode": {
    "name": "ipython",
    "version": 3
   },
   "file_extension": ".py",
   "mimetype": "text/x-python",
   "name": "python",
   "nbconvert_exporter": "python",
   "pygments_lexer": "ipython3",
   "version": "3.8.8"
  }
 },
 "nbformat": 4,
 "nbformat_minor": 4
}
