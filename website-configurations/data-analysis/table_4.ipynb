{
 "cells": [
  {
   "cell_type": "code",
   "execution_count": 1,
   "metadata": {},
   "outputs": [],
   "source": [
    "import pandas as pd\n",
    "from latex_formatter import LatexFormatter as lf"
   ]
  },
  {
   "cell_type": "code",
   "execution_count": 2,
   "metadata": {},
   "outputs": [],
   "source": [
    "websites = pd.read_csv('data/websites.csv')"
   ]
  },
  {
   "cell_type": "code",
   "execution_count": 3,
   "metadata": {},
   "outputs": [],
   "source": [
    "# BREAKDOWN BY VERTICALS\n",
    "total = len(websites)\n",
    "health = sum(websites['is_health'])\n",
    "finance = sum(websites['is_finance'])\n",
    "other = sum(~websites['is_health'] & ~websites['is_finance'])\n",
    "\n",
    "# BREAKDOWN BY TRACKER\n",
    "websites_google = websites[websites['has_gtag']]\n",
    "google = len(websites_google)\n",
    "websites_meta = websites[websites['has_meta_pixel']]\n",
    "meta = len(websites_meta)\n",
    "\n",
    "\n",
    "# GOOGLE SUBCATEGORIES\n",
    "websites_google_fdc = websites_google[websites_google['google_form_data_collection']]\n",
    "google_fdc = len(websites_google_fdc)\n",
    "google_health = sum(websites_google['is_health'])\n",
    "google_fdc_health = sum(websites_google_fdc['is_health'])\n",
    "google_finance = sum(websites_google['is_finance'])\n",
    "google_fdc_finance = sum(websites_google_fdc['is_finance'])\n",
    "google_other = sum(~websites_google['is_health'] & ~websites_google['is_finance'])\n",
    "google_fdc_other = sum(~websites_google_fdc['is_health'] & ~websites_google_fdc['is_finance'])   \n",
    "\n",
    "\n",
    "# META SUBCATEGORIES\n",
    "websites_meta_fdc = websites_meta[websites_meta['meta_form_data_collection']]\n",
    "meta_fdc = len(websites_meta_fdc)\n",
    "meta_health = sum(websites_meta['is_health'])\n",
    "meta_fdc_health = sum(websites_meta_fdc['is_health'])\n",
    "meta_finance = sum(websites_meta['is_finance'])\n",
    "meta_fdc_finance = sum(websites_meta_fdc['is_finance'])\n",
    "meta_other = sum(~websites_meta['is_health'] & ~websites_meta['is_finance'])\n",
    "meta_fdc_other = sum(~websites_meta_fdc['is_health'] & ~websites_meta_fdc['is_finance'])\n"
   ]
  },
  {
   "cell_type": "code",
   "execution_count": 4,
   "metadata": {},
   "outputs": [],
   "source": [
    "# PERCENTAGES\n",
    "google_percentage = lf.frac(100 * google / total)\n",
    "google_health_percentage = lf.frac(100 * google_health / health)\n",
    "google_finance_percentage = lf.frac(100 * google_finance / finance)\n",
    "google_other_percentage = lf.frac(100 * google_other / other)\n",
    "google_fdc_percentage = lf.frac(100 * google_fdc / google)\n",
    "google_fdc_health_percentage = lf.frac(100 * google_fdc_health / google_health)\n",
    "google_fdc_finance_percentage = lf.frac(100 * google_fdc_finance / google_finance)\n",
    "google_fdc_other_percentage = lf.frac(100 * google_fdc_other / google_other)\n",
    "\n",
    "\n",
    "meta_percentage = lf.frac(100 * meta / total)\n",
    "meta_health_percentage = lf.frac(100 * meta_health / health)\n",
    "meta_finance_percentage = lf.frac(100 * meta_finance / finance)\n",
    "meta_other_percentage = lf.frac(100 * meta_other / other)\n",
    "meta_fdc_percentage = lf.frac(100 * meta_fdc / meta)\n",
    "meta_fdc_health_percentage = lf.frac(100 * meta_fdc_health / meta_health)\n",
    "meta_fdc_finance_percentage = lf.frac(100 * meta_fdc_finance / meta_finance)\n",
    "meta_fdc_other_percentage = lf.frac(100 * meta_fdc_other / meta_other)\n"
   ]
  },
  {
   "cell_type": "code",
   "execution_count": 5,
   "metadata": {},
   "outputs": [],
   "source": [
    "# TESTS \n",
    "assert total == health + finance + other -  sum(websites['is_health'] & websites['is_finance'])\n",
    "assert set(websites['has_gtag']) == set([True, False])\n",
    "assert set(websites['has_meta_pixel']) == set([True, False])\n",
    "assert set(websites['google_form_data_collection']) == set([True, False])\n",
    "assert set(websites['meta_form_data_collection']) == set([True, False])\n"
   ]
  },
  {
   "cell_type": "code",
   "execution_count": 6,
   "metadata": {},
   "outputs": [
    {
     "name": "stdout",
     "output_type": "stream",
     "text": [
      "\n",
      "    \\begin{table*}[t]\n",
      "      \\centering\n",
      "      \\small\n",
      "      \\begin{tabular}{l r rrr rrr}\n",
      "        \\toprule\n",
      "        \\multirow{3}{*}{\\normalsize\\textbf{Vertical}} &  \\multirow{3}{*}{\\normalsize\\textbf{Websites}} & \\multicolumn{3}{c}{\\normalsize{\\textbf{Google}}} & \\multicolumn{3}{c}{\\normalsize{\\textbf{Meta}}}  \\\\  \n",
      "          & & \\multicolumn{2}{c}{\\textbf{\\tracker[u]}}  &  \\multicolumn{1}{c}{\\textbf{\\dynamica[u]}}  & \\multicolumn{2}{c}{\\textbf{\\tracker[u]}}   &  \\multicolumn{1}{c}{\\textbf{\\dynamica[u]}} \\\\  \n",
      "          & & Websites & Vertical Websites  & \\tracker[u]  & Websites &  Vertical Websites  &  \\tracker[u] \\\\\n",
      "        \\cmidrule(lr){1-2}  \\cmidrule(lr){3-5}  \\cmidrule(lr){6-8} \n",
      "        \\rowcolor{lightgray} \\textbf{Non-Sensitive} & 35,113 & 25,471 & 72.5\\% & 11.5\\% &9,731  &27.7\\%  & 68.0\\% \\\\\n",
      "        \\textbf{Health}& 3,406  & 2,565 & 75.3\\% & 11.6\\%  & 1,075  & 31.6\\%& 30.8\\% \\\\\n",
      "        \\rowcolor{lightgray} \\textbf{Finance} & 1,633  & 1,103  &67.5\\%  & 13.4\\%  & 503  & 30.8\\% & 20.3\\% \\\\\n",
      "        \\textbf{Total} & 40,150 &  29,137 & 72.6\\% & 11.6\\% & 11,309 & 28.2\\% & 62.3\\% \\\\\n",
      "        \\bottomrule\n",
      "      \\end{tabular}\n",
      "      \\caption{Breakdown of \\tracker[s] and \\dynamica for Google and Meta on different verticals.}\n",
      "      \\label{tab:vertical_breakdown}\n",
      "    \\end{table*}\n",
      "\n"
     ]
    }
   ],
   "source": [
    "table_4 = f\"\"\"\n",
    "    \\\\begin{{table*}}[t]\n",
    "      \\\\centering\n",
    "      \\\\small\n",
    "      \\\\begin{{tabular}}{{l r rrr rrr}}\n",
    "        \\\\toprule\n",
    "        \\\\multirow{{3}}{{*}}{{\\\\normalsize\\\\textbf{{Vertical}}}} &  \\\\multirow{{3}}{{*}}{{\\\\normalsize\\\\textbf{{Websites}}}} & \\\\multicolumn{{3}}{{c}}{{\\\\normalsize{{\\\\textbf{{Google}}}}}} & \\\\multicolumn{{3}}{{c}}{{\\\\normalsize{{\\\\textbf{{Meta}}}}}}  \\\\\\\\  \n",
    "          & & \\\\multicolumn{{2}}{{c}}{{\\\\textbf{{\\\\tracker[u]}}}}  &  \\\\multicolumn{{1}}{{c}}{{\\\\textbf{{\\\\dynamica[u]}}}}  & \\\\multicolumn{{2}}{{c}}{{\\\\textbf{{\\\\tracker[u]}}}}   &  \\\\multicolumn{{1}}{{c}}{{\\\\textbf{{\\\\dynamica[u]}}}} \\\\\\\\  \n",
    "          & & Websites & Vertical Websites  & \\\\tracker[u]  & Websites &  Vertical Websites  &  \\\\tracker[u] \\\\\\\\\n",
    "        \\\\cmidrule(lr){{1-2}}  \\\\cmidrule(lr){{3-5}}  \\\\cmidrule(lr){{6-8}} \n",
    "        \\\\rowcolor{{lightgray}} \\\\textbf{{Non-Sensitive}} & {lf.num(other)} & {lf.num(google_other)} & {google_other_percentage} & {google_fdc_other_percentage} &{lf.num(meta_other)}  &{meta_other_percentage}  & {meta_fdc_other_percentage} \\\\\\\\\n",
    "        \\\\textbf{{Health}}& {lf.num(health)}  & {lf.num(google_health)} & {google_health_percentage} & {google_fdc_health_percentage}  & {lf.num(meta_health)}  & {meta_health_percentage}& {meta_fdc_health_percentage} \\\\\\\\\n",
    "        \\\\rowcolor{{lightgray}} \\\\textbf{{Finance}} & {lf.num(finance)}  & {lf.num(google_finance)}  &{google_finance_percentage}  & {google_fdc_finance_percentage}  & {lf.num(meta_finance)}  & {meta_finance_percentage} & {meta_fdc_finance_percentage} \\\\\\\\\n",
    "        \\\\textbf{{Total}} & {lf.num(total)} &  {lf.num(google)} & {google_percentage} & {google_fdc_percentage} & {lf.num(meta)} & {meta_percentage} & {meta_fdc_percentage} \\\\\\\\\n",
    "        \\\\bottomrule\n",
    "      \\\\end{{tabular}}\n",
    "      \\\\caption{{Breakdown of \\\\tracker[s] and \\\\dynamica for Google and Meta on different verticals.}}\n",
    "      \\\\label{{tab:vertical_breakdown}}\n",
    "    \\\\end{{table*}}\n",
    "\"\"\"\n",
    "\n",
    "print(table_4)"
   ]
  }
 ],
 "metadata": {
  "kernelspec": {
   "display_name": "Python (three_eight)",
   "language": "python",
   "name": "three_eight"
  },
  "language_info": {
   "codemirror_mode": {
    "name": "ipython",
    "version": 3
   },
   "file_extension": ".py",
   "mimetype": "text/x-python",
   "name": "python",
   "nbconvert_exporter": "python",
   "pygments_lexer": "ipython3",
   "version": "3.8.8"
  }
 },
 "nbformat": 4,
 "nbformat_minor": 4
}
