{
 "cells": [
  {
   "cell_type": "code",
   "execution_count": 1,
   "metadata": {},
   "outputs": [],
   "source": [
    "import pandas as pd\n",
    "import pickle\n",
    "import numpy as np\n",
    "from latex_formatter import LatexFormatter as lf\n",
    "from io import StringIO"
   ]
  },
  {
   "cell_type": "code",
   "execution_count": 2,
   "metadata": {},
   "outputs": [],
   "source": [
    "def read_logit_results(filename):\n",
    "    \"\"\"Return the summary of a logistic regression model from a file, and the pseudo-rsquared.\n",
    "\n",
    "    Args:\n",
    "        filename (str): The name of the file to read the model from.\n",
    "\n",
    "    Returns:\n",
    "        tuple: A tuple containing the summary of the model as a pandas DataFrame, and the pseudo-rsquared.\n",
    "    \"\"\"\n",
    "    with open(filename, 'rb') as fl:\n",
    "        logit_model = pickle.load(fl)\n",
    "    results_summary = logit_model.summary()\n",
    "    results_as_html = results_summary.tables[1].as_html()\n",
    "    results_df = pd.read_html(StringIO(results_as_html), header=0, index_col=0)[0]\n",
    "    return results_df, logit_model.prsquared\n",
    "\n",
    "google_regression, google_pseudo_r2 = read_logit_results('regression_analysis/regression_analysis_google_model.pkl')\n",
    "meta_regression, meta_pseudo_r2 = read_logit_results('regression_analysis/regression_analysis_meta_model.pkl')\n"
   ]
  },
  {
   "cell_type": "code",
   "execution_count": 3,
   "metadata": {},
   "outputs": [],
   "source": [
    "google_regression['OR'] = np.exp(google_regression['coef'])\n",
    "meta_regression['OR'] = np.exp(meta_regression['coef'])\n",
    "google_regression['OR_LOWER_CI'] = np.exp(google_regression['[0.025'])\n",
    "meta_regression['OR_LOWER_CI'] = np.exp(meta_regression['[0.025'])\n",
    "google_regression['OR_HIGHER_CI'] = np.exp(google_regression['0.975]'])\n",
    "meta_regression['OR_HIGHER_CI'] = np.exp(meta_regression['0.975]'])"
   ]
  },
  {
   "cell_type": "code",
   "execution_count": 4,
   "metadata": {},
   "outputs": [
    {
     "name": "stdout",
     "output_type": "stream",
     "text": [
      "\n",
      "    \\begin{table}[ht]\n",
      "        \\centering\n",
      "        \\small\n",
      "        \\begin{tabular}{p{1pt}lrrr}\n",
      "            \\toprule\n",
      "            &\\textbf{Feature} &  \\multicolumn{1}{c}{\\textbf{OR}} &  \\multicolumn{1}{c}{\\textbf{$p$-value}} &  \\multicolumn{1}{c}{\\textbf{CI}} \\\\\n",
      "            \\midrule\n",
      "            \\multirow{4}{*} {\\rotatebox{90}{\\textbf{Meta}}} & Has \\gpixel &  1.903 &  0.000 & [1.443, 2.512] \\\\\n",
      "            & Google \\dynamica[u] &  1.699 &  0.000 & [1.533, 1.885] \\\\\n",
      "            & Is Health &  0.206 &  0.000 & [0.180, 0.237] \\\\\n",
      "            & Is Finance &  0.118 &  0.000 & [0.094, 0.147] \\\\\n",
      "            \\midrule\n",
      "            \\multirow{3}{*} {\\rotatebox{90}{\\textbf{Google}}} & Has \\mpixel &  4.839 &  0.000 & [4.473, 5.233] \\\\\n",
      "            & Is Health &  0.952 &  0.457 & [0.835, 1.084] \\\\\n",
      "            & Is Finance &  1.086 &  0.376 & [0.905, 1.305] \\\\\n",
      "            \\bottomrule\n",
      "        \\end{tabular}\n",
      "        \\caption{Odds Ratios (OR), $p$-values, and Confidence Intervals (CI) from our Logistic Regression Analyses: \\\\ (i) With \\mpixel \\dynamica as dependent variable; trained on all websites that have \\mpixel (Pseudo R-squared: 0.0721). Results suggest that a website is more likely to have  \\mpixel \\dynamica when it has \\gpixel and \\gpixel \\dynamica, and less likely if it belongs to Health or Finance verticals.\\\\ (ii) With \\gpixel \\dynamica as dependent variable; trained on all websites that have \\gpixel (Pseudo R-squared: 0.0825). Results suggest that a website is more likely to have \\gpixel \\dynamica when it has a \\mpixel. \\\\ All features are boolean variables -- True if a website has the property. }\n",
      "        \\label{tab:logistic_regression}\n",
      "    \\end{table}\n",
      "\n",
      "\n"
     ]
    }
   ],
   "source": [
    "table_7 = f\"\"\"\n",
    "    \\\\begin{{table}}[ht]\n",
    "        \\\\centering\n",
    "        \\\\small\n",
    "        \\\\begin{{tabular}}{{p{{1pt}}lrrr}}\n",
    "            \\\\toprule\n",
    "            &\\\\textbf{{Feature}} &  \\\\multicolumn{{1}}{{c}}{{\\\\textbf{{OR}}}} &  \\\\multicolumn{{1}}{{c}}{{\\\\textbf{{$p$-value}}}} &  \\\\multicolumn{{1}}{{c}}{{\\\\textbf{{CI}}}} \\\\\\\\\n",
    "            \\\\midrule\n",
    "            \\\\multirow{{4}}{{*}} {{\\\\rotatebox{{90}}{{\\\\textbf{{Meta}}}}}} & Has \\\\gpixel &  {lf.num(meta_regression['OR']['has_gtag'], 3)} &  {lf.num(meta_regression['P>|z|']['has_gtag'], 3)} & [{lf.num(meta_regression['OR_LOWER_CI']['has_gtag'], 3)}, {lf.num(meta_regression['OR_HIGHER_CI']['has_gtag'], 3)}] \\\\\\\\\n",
    "            & Google \\\\dynamica[u] &  {lf.num(meta_regression['OR']['google_form_data_collection'], 3)} &  {lf.num(meta_regression['P>|z|']['google_form_data_collection'], 3)} & [{lf.num(meta_regression['OR_LOWER_CI']['google_form_data_collection'], 3)}, {lf.num(meta_regression['OR_HIGHER_CI']['google_form_data_collection'], 3)}] \\\\\\\\\n",
    "            & Is Health &  {lf.num(meta_regression['OR']['is_health'], 3)} &  {lf.num(meta_regression['P>|z|']['is_health'], 3)} & [{lf.num(meta_regression['OR_LOWER_CI']['is_health'], 3)}, {lf.num(meta_regression['OR_HIGHER_CI']['is_health'], 3)}] \\\\\\\\\n",
    "            & Is Finance &  {lf.num(meta_regression['OR']['is_finance'], 3)} &  {lf.num(meta_regression['P>|z|']['is_finance'], 3)} & [{lf.num(meta_regression['OR_LOWER_CI']['is_finance'], 3)}, {lf.num(meta_regression['OR_HIGHER_CI']['is_finance'], 3)}] \\\\\\\\\n",
    "            \\\\midrule\n",
    "            \\\\multirow{{3}}{{*}} {{\\\\rotatebox{{90}}{{\\\\textbf{{Google}}}}}} & Has \\\\mpixel &  {lf.num(google_regression['OR']['has_meta_pixel'], 3)} &  {lf.num(google_regression['P>|z|']['has_meta_pixel'], 3)} & [{lf.num(google_regression['OR_LOWER_CI']['has_meta_pixel'], 3)}, {lf.num(google_regression['OR_HIGHER_CI']['has_meta_pixel'], 3)}] \\\\\\\\\n",
    "            & Is Health &  {lf.num(google_regression['OR']['is_health'], 3)} &  {lf.num(google_regression['P>|z|']['is_health'], 3)} & [{lf.num(google_regression['OR_LOWER_CI']['is_health'], 3)}, {lf.num(google_regression['OR_HIGHER_CI']['is_health'], 3)}] \\\\\\\\\n",
    "            & Is Finance &  {lf.num(google_regression['OR']['is_finance'], 3)} &  {lf.num(google_regression['P>|z|']['is_finance'], 3)} & [{lf.num(google_regression['OR_LOWER_CI']['is_finance'], 3)}, {lf.num(google_regression['OR_HIGHER_CI']['is_finance'], 3)}] \\\\\\\\\n",
    "            \\\\bottomrule\n",
    "        \\\\end{{tabular}}\n",
    "        \\\\caption{{Odds Ratios (OR), $p$-values, and Confidence Intervals (CI) from our Logistic Regression Analyses: \\\\\\\\ (i) With \\\\mpixel \\\\dynamica as dependent variable; trained on all websites that have \\\\mpixel (Pseudo R-squared: {meta_pseudo_r2:.4f}). Results suggest that a website is more likely to have  \\\\mpixel \\\\dynamica when it has \\\\gpixel and \\\\gpixel \\\\dynamica, and less likely if it belongs to Health or Finance verticals.\\\\\\\\ (ii) With \\\\gpixel \\\\dynamica as dependent variable; trained on all websites that have \\\\gpixel (Pseudo R-squared: {google_pseudo_r2:.4f}). Results suggest that a website is more likely to have \\\\gpixel \\\\dynamica when it has a \\\\mpixel. \\\\\\\\ All features are boolean variables -- True if a website has the property. }}\n",
    "        \\\\label{{tab:logistic_regression}}\n",
    "    \\\\end{{table}}\n",
    "\n",
    "\"\"\"\n",
    "print(table_7)"
   ]
  }
 ],
 "metadata": {
  "kernelspec": {
   "display_name": "Python (three_eight)",
   "language": "python",
   "name": "three_eight"
  },
  "language_info": {
   "codemirror_mode": {
    "name": "ipython",
    "version": 3
   },
   "file_extension": ".py",
   "mimetype": "text/x-python",
   "name": "python",
   "nbconvert_exporter": "python",
   "pygments_lexer": "ipython3",
   "version": "3.8.8"
  }
 },
 "nbformat": 4,
 "nbformat_minor": 4
}
