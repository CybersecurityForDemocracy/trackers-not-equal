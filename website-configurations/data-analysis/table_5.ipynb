{
 "cells": [
  {
   "cell_type": "code",
   "execution_count": 1,
   "metadata": {},
   "outputs": [],
   "source": [
    "import pandas as pd\n",
    "from latex_formatter import LatexFormatter as lf"
   ]
  },
  {
   "cell_type": "code",
   "execution_count": 2,
   "metadata": {},
   "outputs": [],
   "source": [
    "websites = pd.read_csv('data/websites.csv')"
   ]
  },
  {
   "cell_type": "code",
   "execution_count": 3,
   "metadata": {},
   "outputs": [],
   "source": [
    "# BREAKDOWN BY VERTICAL\n",
    "websites_both = websites[websites['has_gtag'] & websites['has_meta_pixel']]\n",
    "total_both = len(websites_both)\n",
    "websites_only_google = websites[websites['has_gtag'] & ~websites['has_meta_pixel']]\n",
    "total_only_google = len(websites_only_google)\n",
    "websites_only_meta = websites[~websites['has_gtag'] & websites['has_meta_pixel']]\n",
    "total_only_meta = len(websites_only_meta)\n",
    "\n",
    "\n",
    "google_fdc_out_of_both = sum(websites_both['google_form_data_collection'])\n",
    "meta_fdc_out_of_both = sum(websites_both['meta_form_data_collection'])\n",
    "google_fdc_only_google = sum(websites_only_google['google_form_data_collection'])\n",
    "meta_fdc_only_meta = sum(websites_only_meta['meta_form_data_collection'])"
   ]
  },
  {
   "cell_type": "code",
   "execution_count": 4,
   "metadata": {},
   "outputs": [],
   "source": [
    "# PERCENTAGES\n",
    "p_google_fdc_out_of_both = lf.frac(100 * google_fdc_out_of_both / total_both)\n",
    "p_meta_fdc_out_of_both = lf.frac(100 * meta_fdc_out_of_both / total_both)\n",
    "p_google_fdc_only_google = lf.frac(100 * google_fdc_only_google / total_only_google)\n",
    "p_meta_fdc_only_meta = lf.frac(100 * meta_fdc_only_meta / total_only_meta)\n",
    "\n",
    "\n"
   ]
  },
  {
   "cell_type": "code",
   "execution_count": 5,
   "metadata": {},
   "outputs": [
    {
     "name": "stdout",
     "output_type": "stream",
     "text": [
      "\n",
      "    \\begin{table}[h]\n",
      "        \\centering\n",
      "        \\small\n",
      "        \\begin{tabular}{lrrr}\n",
      "            \\toprule\n",
      "            \\multicolumn{1}{c}{\\multirow{2}{*}{\\textbf{Subset}}} & \\multicolumn{1}{c}{\\multirow{2}{*}{\\textbf{Websites}}}  & \\multicolumn{2}{c}{\\textbf{\\dynamica[u]}} \\\\\n",
      "            & & \\textbf{Google} & \\textbf{Meta} \\\\\n",
      "            \\midrule\n",
      "            \\rowcolor{lightgray} \\textbf{\\gpixel $\\cap$ \\mpixel} & 11,083 & 21.7\\% & 62.7\\% \\\\\n",
      "            \\textbf{\\gpixel $\\cap$ $\\neg$\\mpixel} & 18,054 & 5.4\\% &  \\textemdash \\\\\n",
      "            \\rowcolor{lightgray} \\textbf{$\\neg$\\gpixel $\\cap$ \\mpixel} & 226  & \\textemdash  & 44.2\\%\\\\    \n",
      "            \\bottomrule\n",
      "        \\end{tabular}\n",
      "        \\caption{Breakdown of \\dynamica for different websites with both trackers, websites with only \\gpixel, and websites with only \\mpixel.}\n",
      "        \\label{tab:breakdown_subsets}\n",
      "    \\end{table}\n",
      "\n"
     ]
    }
   ],
   "source": [
    "table_5= f\"\"\"\n",
    "    \\\\begin{{table}}[h]\n",
    "        \\\\centering\n",
    "        \\\\small\n",
    "        \\\\begin{{tabular}}{{lrrr}}\n",
    "            \\\\toprule\n",
    "            \\\\multicolumn{{1}}{{c}}{{\\\\multirow{{2}}{{*}}{{\\\\textbf{{Subset}}}}}} & \\\\multicolumn{{1}}{{c}}{{\\\\multirow{{2}}{{*}}{{\\\\textbf{{Websites}}}}}}  & \\\\multicolumn{{2}}{{c}}{{\\\\textbf{{\\\\dynamica[u]}}}} \\\\\\\\\n",
    "            & & \\\\textbf{{Google}} & \\\\textbf{{Meta}} \\\\\\\\\n",
    "            \\\\midrule\n",
    "            \\\\rowcolor{{lightgray}} \\\\textbf{{\\\\gpixel $\\\\cap$ \\\\mpixel}} & {lf.num(total_both)} & {p_google_fdc_out_of_both} & {p_meta_fdc_out_of_both} \\\\\\\\\n",
    "            \\\\textbf{{\\\\gpixel $\\\\cap$ $\\\\neg$\\\\mpixel}} & {lf.num(total_only_google)} & {p_google_fdc_only_google} &  \\\\textemdash \\\\\\\\\n",
    "            \\\\rowcolor{{lightgray}} \\\\textbf{{$\\\\neg$\\\\gpixel $\\\\cap$ \\\\mpixel}} & {lf.num(total_only_meta)}  & \\\\textemdash  & {p_meta_fdc_only_meta}\\\\\\\\    \n",
    "            \\\\bottomrule\n",
    "        \\\\end{{tabular}}\n",
    "        \\\\caption{{Breakdown of \\\\dynamica for different websites with both trackers, websites with only \\\\gpixel, and websites with only \\\\mpixel.}}\n",
    "        \\\\label{{tab:breakdown_subsets}}\n",
    "    \\\\end{{table}}\n",
    "\"\"\"\n",
    "\n",
    "print(table_5)"
   ]
  }
 ],
 "metadata": {
  "kernelspec": {
   "display_name": "Python (three_eight)",
   "language": "python",
   "name": "three_eight"
  },
  "language_info": {
   "codemirror_mode": {
    "name": "ipython",
    "version": 3
   },
   "file_extension": ".py",
   "mimetype": "text/x-python",
   "name": "python",
   "nbconvert_exporter": "python",
   "pygments_lexer": "ipython3",
   "version": "3.8.8"
  }
 },
 "nbformat": 4,
 "nbformat_minor": 4
}
