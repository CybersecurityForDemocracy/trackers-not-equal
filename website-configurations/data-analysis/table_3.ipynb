{
 "cells": [
  {
   "cell_type": "code",
   "execution_count": 1,
   "metadata": {},
   "outputs": [],
   "source": [
    "import pandas as pd\n",
    "from latex_formatter import LatexFormatter as lf"
   ]
  },
  {
   "cell_type": "code",
   "execution_count": 2,
   "metadata": {},
   "outputs": [],
   "source": [
    "websites = pd.read_csv('data/websites.csv')"
   ]
  },
  {
   "cell_type": "code",
   "execution_count": 3,
   "metadata": {},
   "outputs": [],
   "source": [
    "# BREAKDOWN BY TRACKER\n",
    "total = len(websites)\n",
    "websites_google = websites[websites['has_gtag']]\n",
    "google = len(websites_google)\n",
    "websites_meta = websites[websites['has_meta_pixel']]\n",
    "meta = len(websites_meta)\n",
    "\n",
    "\n",
    "# GOOGLE SUBCATEGORIES\n",
    "websites_google_fdc = websites_google[websites_google['google_form_data_collection']]\n",
    "google_fdc = len(websites_google_fdc)\n",
    "\n",
    "\n",
    "# META SUBCATEGORIES\n",
    "websites_meta_fdc = websites_meta[websites_meta['meta_form_data_collection']]\n",
    "meta_fdc = len(websites_meta_fdc)\n",
    "static_fdc_meta = sum(websites['meta_form_data_configuration']) \n",
    "\n",
    "\n",
    "union = sum(websites['has_gtag'] | websites['has_meta_pixel'])\n",
    "fdc_union = sum(websites['google_form_data_collection'] | websites['meta_form_data_collection'])\n"
   ]
  },
  {
   "cell_type": "code",
   "execution_count": 4,
   "metadata": {},
   "outputs": [],
   "source": [
    "# PERCENTAGES\n",
    "google_percentage = lf.frac(100 * google / total)\n",
    "google_fdc_percentage_of_total = lf.frac(100 * google_fdc / total)\n",
    "google_fdc_percentage_of_google = lf.frac(100 * google_fdc / google)\n",
    "meta_percentage = lf.frac(100 * meta / total)\n",
    "static_meta_percentage_of_total = lf.frac(100 * static_fdc_meta / total)\n",
    "static_fdc_meta_percentage_of_total = lf.frac(100 * static_fdc_meta / total)\n",
    "static_fdc_meta_percentage_of_meta = lf.frac(100 * static_fdc_meta / meta)\n",
    "meta_fdc_percentage_of_total = lf.frac(100 * meta_fdc / total)\n",
    "meta_fdc_percentage_of_meta = lf.frac(100 * meta_fdc / meta)\n",
    "union_percentage = lf.frac(100 * union / total)\n",
    "union_fdc_percentage_of_total = lf.frac(100 * fdc_union / total)\n",
    "union_fdc_percentage_of_union = lf.frac(100 * fdc_union / union)"
   ]
  },
  {
   "cell_type": "code",
   "execution_count": 5,
   "metadata": {},
   "outputs": [
    {
     "name": "stdout",
     "output_type": "stream",
     "text": [
      "\n",
      "    \\begin{table*}[t]\n",
      "        \\centering\n",
      "        \\small\n",
      "        \\begin{tabular}{l rr rrr rrr}\n",
      "            \\toprule\n",
      "            & \\multicolumn{2}{c}{\\textbf{\\tracker[u]}} &  \\multicolumn{3}{c}{\\textbf{\\statica[u]}} &  \\multicolumn{3}{c}{\\textbf{\\dynamica[u]}} \\\\\n",
      "            & \\textit{Websites} & \\textit{All Websites} & \\textit{Websites} & \\textit{All Websites}  & \\textit{\\tracker[u]} & \\textit{Websites} & \\textit{All Websites}  & \\textit{\\tracker[u]} \\\\\n",
      "            \\cmidrule(lr){2-3} \\cmidrule(lr){4-6} \\cmidrule(l){7-9}\n",
      "            \\rowcolor{lightgray} \\textbf{Google} & 29,137 & 72.6\\% & --- & --- & --- & 3,377 & 8.4\\% & 11.6\\% \\\\\n",
      "            \\textbf{Meta} & 11,309 & 28.2\\% & 7,849 & 19.5\\%   & 69.4\\% & 7,049 & 17.6\\% & 62.3\\%  \\\\\n",
      "            \\rowcolor{lightgray} \\textbf{Google $\\cup$ Meta} & 29,363 & 73.1\\% & --- & --- & --- & 8714 & 21.7\\% & 29.7\\% \\\\\n",
      "            \\bottomrule\n",
      "        \\end{tabular}\n",
      "        \\caption{Overview of all \\tracker[s], and \\tracker[s] with \\statica and \\dynamica for Google, Meta, and websites that have either (Google $\\cup$ Meta). The denominator for ``All Websites'' percentages is 40,150.}\n",
      "        \\label{tab:dataset_overview}\n",
      "    \\end{table*}\n",
      "\n",
      "\n"
     ]
    }
   ],
   "source": [
    "table_3  = f\"\"\"\n",
    "    \\\\begin{{table*}}[t]\n",
    "        \\\\centering\n",
    "        \\\\small\n",
    "        \\\\begin{{tabular}}{{l rr rrr rrr}}\n",
    "            \\\\toprule\n",
    "            & \\\\multicolumn{{2}}{{c}}{{\\\\textbf{{\\\\tracker[u]}}}} &  \\\\multicolumn{{3}}{{c}}{{\\\\textbf{{\\\\statica[u]}}}} &  \\\\multicolumn{{3}}{{c}}{{\\\\textbf{{\\\\dynamica[u]}}}} \\\\\\\\\n",
    "            & \\\\textit{{Websites}} & \\\\textit{{All Websites}} & \\\\textit{{Websites}} & \\\\textit{{All Websites}}  & \\\\textit{{\\\\tracker[u]}} & \\\\textit{{Websites}} & \\\\textit{{All Websites}}  & \\\\textit{{\\\\tracker[u]}} \\\\\\\\\n",
    "            \\\\cmidrule(lr){{2-3}} \\\\cmidrule(lr){{4-6}} \\\\cmidrule(l){{7-9}}\n",
    "            \\\\rowcolor{{lightgray}} \\\\textbf{{Google}} & {lf.num(google)} & {google_percentage} & --- & --- & --- & {lf.num(google_fdc)} & {google_fdc_percentage_of_total} & {google_fdc_percentage_of_google} \\\\\\\\\n",
    "            \\\\textbf{{Meta}} & {lf.num(meta)} & {meta_percentage} & {lf.num(static_fdc_meta)} & {static_fdc_meta_percentage_of_total}   & {static_fdc_meta_percentage_of_meta} & {lf.num(meta_fdc)} & {meta_fdc_percentage_of_total} & {meta_fdc_percentage_of_meta}  \\\\\\\\\n",
    "            \\\\rowcolor{{lightgray}} \\\\textbf{{Google $\\\\cup$ Meta}} & {lf.num(union)} & {union_percentage} & --- & --- & --- & {fdc_union} & {union_fdc_percentage_of_total} & {union_fdc_percentage_of_union} \\\\\\\\\n",
    "            \\\\bottomrule\n",
    "        \\\\end{{tabular}}\n",
    "        \\\\caption{{Overview of all \\\\tracker[s], and \\\\tracker[s] with \\\\statica and \\\\dynamica for Google, Meta, and websites that have either (Google $\\\\cup$ Meta). The denominator for ``All Websites'' percentages is {lf.num(total)}.}}\n",
    "        \\\\label{{tab:dataset_overview}}\n",
    "    \\\\end{{table*}}\n",
    "\n",
    "\"\"\"\n",
    "\n",
    "print(table_3)"
   ]
  }
 ],
 "metadata": {
  "kernelspec": {
   "display_name": "Python (three_eight)",
   "language": "python",
   "name": "three_eight"
  },
  "language_info": {
   "codemirror_mode": {
    "name": "ipython",
    "version": 3
   },
   "file_extension": ".py",
   "mimetype": "text/x-python",
   "name": "python",
   "nbconvert_exporter": "python",
   "pygments_lexer": "ipython3",
   "version": "3.8.8"
  }
 },
 "nbformat": 4,
 "nbformat_minor": 4
}
