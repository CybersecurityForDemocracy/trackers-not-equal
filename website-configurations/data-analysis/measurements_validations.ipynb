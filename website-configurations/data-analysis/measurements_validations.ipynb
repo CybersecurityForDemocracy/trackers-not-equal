{
 "cells": [
  {
   "cell_type": "markdown",
   "id": "b45c4a9c-7c53-4f06-bca2-b69116326b34",
   "metadata": {},
   "source": [
    "# Validation measurements\n",
    "\n",
    "In this notebook we present the measurements taken from the samples that we use for validation in Section *4.2 Dataset Overview and Validation*. "
   ]
  },
  {
   "cell_type": "code",
   "execution_count": 1,
   "id": "dadec3c8",
   "metadata": {},
   "outputs": [],
   "source": [
    "import pandas as pd"
   ]
  },
  {
   "cell_type": "code",
   "execution_count": 2,
   "id": "9926d1d1-a6fe-4461-bad4-96015a508d41",
   "metadata": {},
   "outputs": [],
   "source": [
    "\n",
    "detected_gtag_no_fdc = pd.read_csv('samples/detected_gtag_no_fdc.csv')\n",
    "detected_mpixel_no_fdc = pd.read_csv('samples/detected_mpixel_no_fdc.csv')\n",
    "meta_config_no_fdc = pd.read_csv('samples/meta_config_no_fdc.csv')\n",
    "no_detected_gtag_installation = pd.read_csv('samples/no_detected_gtag_installation.csv')\n",
    "no_detected_mpixel_installation = pd.read_csv('samples/no_detected_mpixel_installation.csv')"
   ]
  },
  {
   "cell_type": "markdown",
   "id": "45e988da-aceb-4ddc-9803-adefde01dccd",
   "metadata": {},
   "source": [
    "### Section 4.2.1: How many tracker installations and form data collections are we missing?"
   ]
  },
  {
   "cell_type": "code",
   "execution_count": 3,
   "id": "76933c0a-04b9-47d4-9ee2-d262e841ac77",
   "metadata": {},
   "outputs": [
    {
     "name": "stdout",
     "output_type": "stream",
     "text": [
      "Google Installation True Negatives: 91.6% (316)\n",
      "Google Installation False Negatives: 8.4% (29)\n"
     ]
    }
   ],
   "source": [
    "gtag_install_reachable = no_detected_gtag_installation[no_detected_gtag_installation['status'] != 'error loading']\n",
    "gtag_install_reachable_len = len(gtag_install_reachable)\n",
    "\n",
    "gtag_install_tn = no_detected_gtag_installation[no_detected_gtag_installation['status'] == 'TRUE']\n",
    "gtag_install_tn_length = len(gtag_install_tn)\n",
    "gtag_install_tn_percent = round( (gtag_install_tn_length / gtag_install_reachable_len ) * 100, 1)\n",
    "\n",
    "\n",
    "gtag_install_fn = no_detected_gtag_installation[no_detected_gtag_installation['status'] == 'FALSE']\n",
    "gtag_install_fn_length = len(gtag_install_fn)\n",
    "gtag_install_fn_percent = round( (gtag_install_fn_length / gtag_install_reachable_len ) * 100, 1)\n",
    "\n",
    "print(f'Google Installation True Negatives: {gtag_install_tn_percent}% ({gtag_install_tn_length})')\n",
    "print(f'Google Installation False Negatives: {gtag_install_fn_percent}% ({gtag_install_fn_length})')"
   ]
  },
  {
   "cell_type": "code",
   "execution_count": 4,
   "id": "ea67a00b-1918-4d04-8041-b34731ed7d3c",
   "metadata": {},
   "outputs": [
    {
     "name": "stdout",
     "output_type": "stream",
     "text": [
      "Meta Installation True Negatives: 95.7% (352)\n",
      "Meta Installation False Negatives: 4.3% (16)\n"
     ]
    }
   ],
   "source": [
    "meta_install_reachable = no_detected_mpixel_installation[no_detected_mpixel_installation['status'] != 'error loading']\n",
    "meta_install_reachable_len = len(meta_install_reachable)\n",
    "\n",
    "meta_install_tn = no_detected_mpixel_installation[no_detected_mpixel_installation['status'] == 'TRUE']\n",
    "meta_install_tn_length = len(meta_install_tn)\n",
    "meta_install_tn_percent = round( (meta_install_tn_length / meta_install_reachable_len ) * 100, 1)\n",
    "\n",
    "\n",
    "meta_install_fn = no_detected_mpixel_installation[no_detected_mpixel_installation['status'] == 'FALSE']\n",
    "meta_install_fn_length = len(meta_install_fn)\n",
    "meta_install_fn_percent = round( (meta_install_fn_length / meta_install_reachable_len ) * 100, 1)\n",
    "\n",
    "print(f'Meta Installation True Negatives: {meta_install_tn_percent}% ({meta_install_tn_length})')\n",
    "print(f'Meta Installation False Negatives: {meta_install_fn_percent}% ({meta_install_fn_length})')"
   ]
  },
  {
   "cell_type": "code",
   "execution_count": 5,
   "id": "71211c2f-f7bd-4920-a8e7-166f08ecbb32",
   "metadata": {},
   "outputs": [
    {
     "name": "stdout",
     "output_type": "stream",
     "text": [
      "Google FDC True Negatives: 95.1% (346)\n",
      "Google FDC False Negatvies: 1.4% (5)\n"
     ]
    }
   ],
   "source": [
    "gtag_fdc_reachable = detected_gtag_no_fdc[detected_gtag_no_fdc['status'] != 'error loading']\n",
    "gtag_fdc_reachable_len = len(gtag_fdc_reachable)\n",
    "\n",
    "gtag_fdc_tn = detected_gtag_no_fdc[detected_gtag_no_fdc['status'] == 'TRUE']\n",
    "gtag_fdc_tn_length = len(gtag_fdc_tn)\n",
    "gtag_fdc_tn_percent = round( (gtag_fdc_tn_length / gtag_fdc_reachable_len ) * 100, 1)\n",
    "\n",
    "\n",
    "gtag_fdc_fn = detected_gtag_no_fdc[detected_gtag_no_fdc['status'] == 'FALSE']\n",
    "gtag_fdc_fn_length = len(gtag_fdc_fn)\n",
    "gtag_fdc_fn_percent = round( (gtag_fdc_fn_length / gtag_fdc_reachable_len ) * 100, 1)\n",
    "\n",
    "print(f'Google FDC True Negatives: {gtag_fdc_tn_percent}% ({gtag_fdc_tn_length})')\n",
    "print(f'Google FDC False Negatvies: {gtag_fdc_fn_percent}% ({gtag_fdc_fn_length})')"
   ]
  },
  {
   "cell_type": "code",
   "execution_count": 6,
   "id": "ac06d004-c3ac-4ea7-8fdc-312c3a366650",
   "metadata": {},
   "outputs": [
    {
     "name": "stdout",
     "output_type": "stream",
     "text": [
      "Meta FDC True Negatives: 90.4% (293)\n",
      "Meta FDC False Negatvies: 9.6% (31)\n"
     ]
    }
   ],
   "source": [
    "meta_fdc_reachable = detected_mpixel_no_fdc[\n",
    "    (detected_mpixel_no_fdc['status'] != 'no meta pixel') &\n",
    "    (detected_mpixel_no_fdc['status'] != 'error loading')\n",
    "]\n",
    "\n",
    "meta_fdc_reachable_len = len(meta_fdc_reachable)\n",
    "meta_fdc_tn = detected_mpixel_no_fdc[detected_mpixel_no_fdc['status'] == 'TRUE']\n",
    "meta_fdc_tn_length = len(meta_fdc_tn)\n",
    "meta_fdc_tn_percent = round( (meta_fdc_tn_length / meta_fdc_reachable_len ) * 100, 1)\n",
    "\n",
    "meta_fdc_fn = detected_mpixel_no_fdc[detected_mpixel_no_fdc['status'] == 'FALSE']\n",
    "meta_fdc_fn_length = len(meta_fdc_fn)\n",
    "meta_fdc_fn_percent = round( (meta_fdc_fn_length / meta_fdc_reachable_len ) * 100, 1)\n",
    "\n",
    "print(f'Meta FDC True Negatives: {meta_fdc_tn_percent}% ({meta_fdc_tn_length})')\n",
    "print(f'Meta FDC False Negatvies: {meta_fdc_fn_percent}% ({meta_fdc_fn_length})')\n"
   ]
  },
  {
   "cell_type": "markdown",
   "id": "1ef7eb7c-ce42-4692-85cc-5b7f62e14e75",
   "metadata": {},
   "source": [
    "### Section 4.2.2: Form Data Collection as a proxy for FDC Configuration"
   ]
  },
  {
   "cell_type": "code",
   "execution_count": 7,
   "id": "4e923c4c-0f59-4729-bac7-25edd5680a0b",
   "metadata": {},
   "outputs": [
    {
     "name": "stdout",
     "output_type": "stream",
     "text": [
      "Websites with Meta config and Meta FDC: 36.1% (79 websites)\n",
      "Websites with multiple pixels: 17.8% (39 websites)\n"
     ]
    }
   ],
   "source": [
    "meta_config_no_fdc_usable = meta_config_no_fdc[\n",
    "    (meta_config_no_fdc['status'] == 'TRUE') | (meta_config_no_fdc['status'] == 'FALSE')\n",
    "]\n",
    "meta_config_no_fdc_usable_len = len(meta_config_no_fdc_usable)\n",
    "\n",
    "meta_config_fdc_false_negative = meta_config_no_fdc_usable[meta_config_no_fdc_usable['status'] == 'FALSE']\n",
    "meta_config_fdc_false_negative_len = len(meta_config_fdc_false_negative)\n",
    "meta_config_fdc_false_negative_percent = round( (meta_config_fdc_false_negative_len / meta_config_no_fdc_usable_len ) * 100, 1)\n",
    "\n",
    "meta_config_multiple_pixels = meta_config_no_fdc_usable[meta_config_no_fdc_usable['multiple_pixels_with_different_configs'] == True]\n",
    "meta_config_multiple_pixels_len = len(meta_config_multiple_pixels)\n",
    "meta_config_multiple_pixels_percent = round( (meta_config_multiple_pixels_len / meta_config_no_fdc_usable_len ) * 100, 1)\n",
    "\n",
    "print(f'Websites with Meta config and Meta FDC: {meta_config_fdc_false_negative_percent}% ({meta_config_fdc_false_negative_len} websites)')\n",
    "print(f'Websites with multiple pixels: {meta_config_multiple_pixels_percent}% ({meta_config_multiple_pixels_len} websites)')"
   ]
  },
  {
   "cell_type": "markdown",
   "id": "fd7d5cf0-d54e-4540-8b9f-1c516f5c1fbf",
   "metadata": {},
   "source": [
    "### Section 4.2.3: Effect of Accepting or Rejecting Cookies on Tracker Installation and Form Data Collection"
   ]
  },
  {
   "cell_type": "code",
   "execution_count": 8,
   "id": "d2e475c8-67a3-460b-82e4-013d9490d81b",
   "metadata": {},
   "outputs": [
    {
     "name": "stdout",
     "output_type": "stream",
     "text": [
      "ACCEPTED COOKIES\n",
      "Meta Pixel tracker installations : 43.8% (64 websites)\n",
      "Meta Pixel tracker configurations: 24.0% (35 websites)\n",
      "Meta Pixel FDC : 20.5% (30 websites)\n",
      "Google Pixel tracker installations : 71.9% (105 websites)\n",
      "Google Pixel FDC : 8.2% (12 websites)\n"
     ]
    }
   ],
   "source": [
    "accepted_cookies = pd.read_csv('samples/accepted_cookies.csv')\n",
    "accepted_cookies_len = len(accepted_cookies)\n",
    "\n",
    "meta_installed_ac = accepted_cookies[accepted_cookies['has_meta_pixel'] == True]\n",
    "meta_installed_ac_len = len(meta_installed_ac)\n",
    "meta_installed_percent_ac = round((meta_installed_ac_len / accepted_cookies_len ) * 100, 1)\n",
    "\n",
    "meta_configuration_ac = accepted_cookies[accepted_cookies['meta_form_data_configuration'] == True]\n",
    "meta_configuration_ac_len = len(meta_configuration_ac)\n",
    "meta_configuration_percent_ac = round((meta_configuration_ac_len / accepted_cookies_len ) * 100, 1)\n",
    "\n",
    "meta_pixels_fdc_ac = accepted_cookies[accepted_cookies['meta_form_data_collection'] == True]\n",
    "meta_pixels_fdc_ac_len = len(meta_pixels_fdc_ac)\n",
    "meta_fdc_percent_ac = round((meta_pixels_fdc_ac_len / accepted_cookies_len ) * 100, 1)\n",
    "\n",
    "google_installed_ac = accepted_cookies[accepted_cookies['has_gtag'] == True]\n",
    "google_installed_ac_len = len(google_installed_ac)\n",
    "google_installed_percent_ac = round((google_installed_ac_len / accepted_cookies_len ) * 100, 1)\n",
    "\n",
    "google_pixels_fdc_ac = accepted_cookies[accepted_cookies['google_form_data_collection'] == True]\n",
    "google_pixels_fdc_ac_len = len(google_pixels_fdc_ac)\n",
    "google_fdc_percent_ac = round((google_pixels_fdc_ac_len / accepted_cookies_len ) * 100, 1)\n",
    "\n",
    "print(\"ACCEPTED COOKIES\")\n",
    "print(f'Meta Pixel tracker installations : {meta_installed_percent_ac}% ({meta_installed_ac_len} websites)')\n",
    "print(f'Meta Pixel tracker configurations: {meta_configuration_percent_ac}% ({meta_configuration_ac_len} websites)')\n",
    "print(f'Meta Pixel FDC : {meta_fdc_percent_ac}% ({meta_pixels_fdc_ac_len} websites)')\n",
    "print(f'Google Pixel tracker installations : {google_installed_percent_ac}% ({google_installed_ac_len} websites)')\n",
    "print(f'Google Pixel FDC : {google_fdc_percent_ac}% ({google_pixels_fdc_ac_len} websites)')"
   ]
  },
  {
   "cell_type": "code",
   "execution_count": 9,
   "id": "4ee90acb-a5c1-4ca5-bd84-cf8bbde3a287",
   "metadata": {},
   "outputs": [
    {
     "name": "stdout",
     "output_type": "stream",
     "text": [
      "REJECTED COOKIES\n",
      "Meta Pixel tracker installations : 0.0% (0 websites)\n",
      "Meta Pixel FDC : 0.0% (0 websites)\n",
      "Google Pixel tracker installations : 9.3% (12 websites)\n",
      "Google Pixel FDC : 0.0% (0 websites)\n"
     ]
    }
   ],
   "source": [
    "rejected_cookies = pd.read_csv('samples/rejected_cookies.csv')\n",
    "rejected_cookies_len = len(rejected_cookies)\n",
    "\n",
    "meta_installed_rc = rejected_cookies[rejected_cookies['has_meta_pixel'] == True]\n",
    "meta_installed_rc_len = len(meta_installed_rc)\n",
    "meta_installed_percent_rc = round((meta_installed_rc_len / rejected_cookies_len ) * 100, 1)\n",
    "\n",
    "meta_pixels_fdc_rc = rejected_cookies[rejected_cookies['meta_form_data_collection'] == True]\n",
    "meta_pixels_fdc_rc_len = len(meta_pixels_fdc_rc)\n",
    "meta_fdc_percent_rc = round((meta_pixels_fdc_rc_len / rejected_cookies_len ) * 100, 1)\n",
    "\n",
    "google_installed_rc = rejected_cookies[rejected_cookies['has_gtag'] == True]\n",
    "google_installed_rc_len = len(google_installed_rc)\n",
    "google_installed_percent_rc = round((google_installed_rc_len / rejected_cookies_len ) * 100, 1)\n",
    "\n",
    "google_pixels_fdc_rc = rejected_cookies[rejected_cookies['google_form_data_collection'] == True]\n",
    "google_pixels_fdc_rc_len = len(google_pixels_fdc_rc)\n",
    "google_fdc_percent_rc = round((google_pixels_fdc_rc_len / rejected_cookies_len ) * 100, 1)\n",
    "\n",
    "print(\"REJECTED COOKIES\")\n",
    "print(f'Meta Pixel tracker installations : {meta_installed_percent_rc}% ({meta_installed_rc_len} websites)')\n",
    "print(f'Meta Pixel FDC : {meta_fdc_percent_rc}% ({meta_pixels_fdc_rc_len} websites)')\n",
    "print(f'Google Pixel tracker installations : {google_installed_percent_rc}% ({google_installed_rc_len} websites)')\n",
    "print(f'Google Pixel FDC : {google_fdc_percent_rc}% ({google_pixels_fdc_rc_len} websites)')"
   ]
  }
 ],
 "metadata": {
  "kernelspec": {
   "display_name": "Python (three_eight)",
   "language": "python",
   "name": "three_eight"
  },
  "language_info": {
   "codemirror_mode": {
    "name": "ipython",
    "version": 3
   },
   "file_extension": ".py",
   "mimetype": "text/x-python",
   "name": "python",
   "nbconvert_exporter": "python",
   "pygments_lexer": "ipython3",
   "version": "3.8.8"
  }
 },
 "nbformat": 4,
 "nbformat_minor": 5
}
