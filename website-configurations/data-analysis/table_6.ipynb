{
 "cells": [
  {
   "cell_type": "code",
   "execution_count": 1,
   "id": "da04c107-a88b-46d3-8102-577d61da8add",
   "metadata": {},
   "outputs": [],
   "source": [
    "import pandas as pd"
   ]
  },
  {
   "cell_type": "code",
   "execution_count": 2,
   "id": "46d56bc9-8bb5-459d-bfb6-8085876720a6",
   "metadata": {},
   "outputs": [],
   "source": [
    "df = pd.read_csv('data/meta_key_analysis.csv')"
   ]
  },
  {
   "cell_type": "code",
   "execution_count": 3,
   "id": "7ec237d2-407b-44db-9b0a-56eaf5c0399d",
   "metadata": {},
   "outputs": [],
   "source": [
    "num_websites = len(df)\n",
    "default_websites = df[df['is_default_key_list'] == True]\n",
    "num_default_websites = len(default_websites)\n",
    "percent_default = round( (num_default_websites / num_websites ) * 100, 1)"
   ]
  },
  {
   "cell_type": "code",
   "execution_count": 4,
   "id": "48c13934-199c-4281-a5cd-f98b57d1c593",
   "metadata": {},
   "outputs": [],
   "source": [
    "non_default_websites = df[df['is_default_key_list'] == False]\n",
    "\n",
    "pii_keys = {\n",
    "    'em': 0,\n",
    "    'fn': 0, # first and last name are grouped, so we only need to search for one\n",
    "    'ph': 0,\n",
    "    'st': 0, # city, state, and zip are grouped, so we only need to search for one\n",
    "    'ge': 0,\n",
    "    'external_id': 0,\n",
    "    'db': 0,\n",
    "    'country': 0\n",
    "}\n",
    "\n",
    "for key in pii_keys.keys():\n",
    "    websites = non_default_websites[non_default_websites['key_list'].apply(lambda x: key in x)]\n",
    "    num_key_websites = len(websites)\n",
    "    percent_total = round( (num_key_websites / num_websites ) * 100, 1)\n",
    "    pii_keys[key] = percent_total\n"
   ]
  },
  {
   "cell_type": "code",
   "execution_count": 5,
   "id": "cd19bc27-bf1b-41a5-9b77-7c3bfde9adfe",
   "metadata": {},
   "outputs": [
    {
     "name": "stdout",
     "output_type": "stream",
     "text": [
      "\n",
      "    \\begin{table}\n",
      "        \\centering\n",
      "        \\small\n",
      "        \\begin{tabular}{cl c}\n",
      "            \\toprule\n",
      "            \\multicolumn{2}{l}{\\textbf{Field}} & \\textbf{\\% \\statica[u] Websites} \\\\\n",
      "            \\midrule\n",
      "            \\multicolumn{2}{l}{\\textbf{Default  (All Fields)}}& 51.3\\% \\\\\n",
      "            \\midrule\n",
      "            \\multirow{8}{*}{\\rotatebox{90}{\\large{\\textbf{Custom}}}} & Email & 48.2 \\% \\\\\n",
      "            & First and Last Name & 42.4\\% \\\\\n",
      "            & Phone Number & 42.2\\% \\\\\n",
      "            & City, State, and ZIP Code & 38.5\\% \\\\\n",
      "            & Gender & 37.0\\% \\\\\n",
      "            & External ID & 5.4\\% \\\\\n",
      "            & Date of Birth & 5.0\\% \\\\\n",
      "            & Country & 4.6\\% \\\\\n",
      "            \\bottomrule\n",
      "        \\end{tabular}\n",
      "        \\caption{Breakdown of PII field collection configurations of \\\\mpixel[s.] Percentages split by default and custom configurations, and relative to all websites with exactly one \\mpixel configured for \\statica. 51.3\\% of these websites use the default configuration, which collects all fields.}\n",
      "        \\label{fig:match-key-table}\n",
      "    \\end{table}\n",
      "\n"
     ]
    }
   ],
   "source": [
    "table_6 = rf\"\"\"\n",
    "    \\begin{{table}}\n",
    "        \\centering\n",
    "        \\small\n",
    "        \\begin{{tabular}}{{cl c}}\n",
    "            \\toprule\n",
    "            \\multicolumn{{2}}{{l}}{{\\textbf{{Field}}}} & \\textbf{{\\% \\statica[u] Websites}} \\\\\n",
    "            \\midrule\n",
    "            \\multicolumn{{2}}{{l}}{{\\textbf{{Default  (All Fields)}}}}& {percent_default}\\% \\\\\n",
    "            \\midrule\n",
    "            \\multirow{{8}}{{*}}{{\\rotatebox{{90}}{{\\large{{\\textbf{{Custom}}}}}}}} & Email & {pii_keys['em']} \\% \\\\\n",
    "            & First and Last Name & {pii_keys['fn']}\\% \\\\\n",
    "            & Phone Number & {pii_keys['ph']}\\% \\\\\n",
    "            & City, State, and ZIP Code & {pii_keys['st']}\\% \\\\\n",
    "            & Gender & {pii_keys['ge']}\\% \\\\\n",
    "            & External ID & {pii_keys['external_id']}\\% \\\\\n",
    "            & Date of Birth & {pii_keys['db']}\\% \\\\\n",
    "            & Country & {pii_keys['country']}\\% \\\\\n",
    "            \\bottomrule\n",
    "        \\end{{tabular}}\n",
    "        \\caption{{Breakdown of PII field collection configurations of \\\\mpixel[s.] Percentages split by default and custom configurations, and relative to all websites with exactly one \\mpixel configured for \\statica. {percent_default}\\% of these websites use the default configuration, which collects all fields.}}\n",
    "        \\label{{fig:match-key-table}}\n",
    "    \\end{{table}}\n",
    "\"\"\"\n",
    "\n",
    "print(table_6)"
   ]
  }
 ],
 "metadata": {
  "kernelspec": {
   "display_name": "Python (three_eight)",
   "language": "python",
   "name": "three_eight"
  },
  "language_info": {
   "codemirror_mode": {
    "name": "ipython",
    "version": 3
   },
   "file_extension": ".py",
   "mimetype": "text/x-python",
   "name": "python",
   "nbconvert_exporter": "python",
   "pygments_lexer": "ipython3",
   "version": "3.8.8"
  }
 },
 "nbformat": 4,
 "nbformat_minor": 5
}
